{
 "cells": [
  {
   "cell_type": "code",
   "execution_count": 2,
   "id": "8a0e77b7",
   "metadata": {},
   "outputs": [
    {
     "name": "stderr",
     "output_type": "stream",
     "text": [
      "/var/folders/md/3bbqwd2n1k51bmnmvmrf0d3c0000gn/T/ipykernel_94143/503538239.py:9: FutureWarning: Series.__getitem__ treating keys as positions is deprecated. In a future version, integer keys will always be treated as labels (consistent with DataFrame behavior). To access a value by position, use `ser.iloc[pos]`\n",
      "  df.loc[0][1]\n"
     ]
    },
    {
     "data": {
      "text/plain": [
       "'http://childparenting.about.com/od/physicalemotionalgrowth/tp/Child-Development-Your-Eight-Year-Old-Child.htm'"
      ]
     },
     "execution_count": 2,
     "metadata": {},
     "output_type": "execute_result"
    }
   ],
   "source": [
    "from dotenv import load_dotenv\n",
    "import pandas as pd\n",
    "import os\n",
    "load_dotenv()\n",
    "\n",
    "documents_path = os.getenv(\"DOCUMENTS\")\n",
    "\n",
    "df = pd.read_csv(documents_path, sep=\"\\t\", nrows=100)\n",
    "df.loc[0][1]\n",
    "\n"
   ]
  },
  {
   "cell_type": "code",
   "execution_count": 6,
   "id": "ec2b25f4",
   "metadata": {},
   "outputs": [
    {
     "name": "stdout",
     "output_type": "stream",
     "text": [
      "710\n",
      "Random Key: b'D1431560', Value: b'{\"doc_id\": \"D1431560\", \"link\": \"http://australianfood.about.com/od/salads/r/QuinoaSalad.htm\", \"title\": \"Quinoa, Tuna and Chickpea Salad\", \"body\": \"Bill Boch/Photographer\\'s Choice RF/Getty Images40 mins Prep: 10 mins, Cook: 30 mins Yield: 2 servings By Syrie Wongkaew Updated 02/28/18Share Pin Email This tasty quinoa, tuna, and chickpea salad recipe is a firm favorite in my household. Fluffy quinoa is tossed with canned tuna, chickpeas, baby spinach, cilantro, mint, celery, spring onions and baby tomatoes. The dressing is a combination of extra-virgin olive oil, lemon juice, and garlic. The flavors are wonderful and with all of that protein, the salad easily makes a meal in itself. What You\\'ll Need For the Dressing:1 medium clove garlic (grated)2 tablespoons olive oil ( extra-virgin )2 tablespoons lemon juice (freshly squeezed)Pinch sea salt For the Salad:1/2 cup quinoa2 cups water (divided)1/2 teaspoon sea salt7 ounces/200 ml water-packed tuna (1 can, drained)2 cups baby spinach (loosely packed)14 ounces/400 ml chickpeas (1 can, rinsed & drained)1/3 cup celery (finely chopped)1/3 cup cilantro (coriander leaves, chopped)1/3 cup mint (chopped)2 spring onions (finely sliced)8 cherry tomatoes (or baby tomatoes, quartered)How to Make It To make the dressing: In a small bowl, mix together grated garlic clove, 2 tablespoons extra-virgin olive oil, 2 tablespoons lemon juice and a pinch of sea salt. Set aside. To make the salad: Place quinoa in a small, heatproof bowl. Cover with 1 cup of boiling water and soak for 5 minutes. Use a sieve to drain it and then give the quinoa a good wash under cold, running water. Run your fingers through it while you wash it. Place quinoa in a small saucepan and add 1 cup of water and 1/2 teaspoon of sea salt. Bring to a boil, then lower heat to medium-low and cover. Simmer for 15 minutes or until the water has been absorbed. Remove quinoa from heat and allow to sit for 5 minutes with a lid on. Meanwhile, in a large mixing bowl, combine the tuna, spinach, chickpeas, celery, cilantro, mint, spring onions and baby tomatoes. Fluff the quinoa gently with a fork and then add to the salad ingredients. Add the dressing and then stir well to coat the ingredients. Divide salad between 2 large bowls and serve. More Australian/New Zealand Salad Recipes Nicoise Salad Rate This Recipe I don\\'t like this at all. It\\'s not the worst. Sure, this will do. I\\'m a fan\\\\u2014would recommend. Amazing! I love it! Thanks for your rating!\"}'\n"
     ]
    }
   ],
   "source": [
    "import redis\n",
    "\n",
    "def connect_to_db(host: str, port: int):\n",
    "    # Placeholder for database connection logic\n",
    "    return redis.Redis(host=host, port=port)\n",
    "\n",
    "redis_port = int(os.getenv(\"REDIS_PORT\", 6379))\n",
    "db = connect_to_db(\"localhost\", redis_port)\n",
    "\n",
    "print(db.dbsize())\n",
    "\n",
    "random_key = db.randomkey()\n",
    "if random_key:\n",
    "    value = db.get(random_key)\n",
    "    print(f\"Random Key: {random_key}, Value: {value}\")"
   ]
  }
 ],
 "metadata": {
  "kernelspec": {
   "display_name": "sea-wise-2025-26",
   "language": "python",
   "name": "python3"
  },
  "language_info": {
   "codemirror_mode": {
    "name": "ipython",
    "version": 3
   },
   "file_extension": ".py",
   "mimetype": "text/x-python",
   "name": "python",
   "nbconvert_exporter": "python",
   "pygments_lexer": "ipython3",
   "version": "3.11.12"
  }
 },
 "nbformat": 4,
 "nbformat_minor": 5
}
