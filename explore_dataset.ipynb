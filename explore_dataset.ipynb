{
 "cells": [
  {
   "cell_type": "code",
   "execution_count": 1,
   "id": "8a0e77b7",
   "metadata": {},
   "outputs": [
    {
     "name": "stderr",
     "output_type": "stream",
     "text": [
      "/var/folders/md/3bbqwd2n1k51bmnmvmrf0d3c0000gn/T/ipykernel_34087/503538239.py:9: FutureWarning: Series.__getitem__ treating keys as positions is deprecated. In a future version, integer keys will always be treated as labels (consistent with DataFrame behavior). To access a value by position, use `ser.iloc[pos]`\n",
      "  df.loc[0][1]\n"
     ]
    },
    {
     "data": {
      "text/plain": [
       "'http://childparenting.about.com/od/physicalemotionalgrowth/tp/Child-Development-Your-Eight-Year-Old-Child.htm'"
      ]
     },
     "execution_count": 1,
     "metadata": {},
     "output_type": "execute_result"
    }
   ],
   "source": [
    "from dotenv import load_dotenv\n",
    "import pandas as pd\n",
    "import os\n",
    "load_dotenv()\n",
    "\n",
    "documents_path = os.getenv(\"DOCUMENTS\")\n",
    "\n",
    "df = pd.read_csv(documents_path, sep=\"\\t\", nrows=100)\n",
    "df.loc[0][1]\n",
    "\n"
   ]
  },
  {
   "cell_type": "code",
   "execution_count": 24,
   "id": "ec2b25f4",
   "metadata": {},
   "outputs": [
    {
     "name": "stdout",
     "output_type": "stream",
     "text": [
      "38215\n",
      "10730\n"
     ]
    }
   ],
   "source": [
    "import json\n",
    "import redis\n",
    "from transformers import GPT2Tokenizer\n",
    "from transformers import AutoTokenizer\n",
    "from redis.commands.json.path import Path\n",
    "\n",
    "def connect_to_db(host: str, port: int):\n",
    "    # Placeholder for database connection logic\n",
    "    return redis.Redis(host=host, port=port)\n",
    "\n",
    "redis_port = int(os.getenv(\"REDIS_PORT\", 6379))\n",
    "db = connect_to_db(\"localhost\", redis_port)\n",
    "print(db.dbsize())\n",
    "cursor, count = 0, 0\n",
    "#tokenizer = GPT2Tokenizer.from_pretrained('gpt2')\n",
    "while True:\n",
    "    cursor, keys = db.scan(cursor)\n",
    "    for key in keys:\n",
    "        if not key.decode().startswith(\"token\"):\n",
    "            count += 1\n",
    "    if cursor == 0:\n",
    "        break\n",
    "\n",
    "print(count)\n"
   ]
  }
 ],
 "metadata": {
  "kernelspec": {
   "display_name": "sea-wise-2025-26",
   "language": "python",
   "name": "python3"
  },
  "language_info": {
   "codemirror_mode": {
    "name": "ipython",
    "version": 3
   },
   "file_extension": ".py",
   "mimetype": "text/x-python",
   "name": "python",
   "nbconvert_exporter": "python",
   "pygments_lexer": "ipython3",
   "version": "3.11.12"
  }
 },
 "nbformat": 4,
 "nbformat_minor": 5
}
