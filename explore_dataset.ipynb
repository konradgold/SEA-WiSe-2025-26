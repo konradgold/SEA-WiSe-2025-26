{
 "cells": [
  {
   "cell_type": "code",
   "execution_count": 2,
   "id": "8a0e77b7",
   "metadata": {},
   "outputs": [
    {
     "name": "stderr",
     "output_type": "stream",
     "text": [
      "/var/folders/md/3bbqwd2n1k51bmnmvmrf0d3c0000gn/T/ipykernel_94143/503538239.py:9: FutureWarning: Series.__getitem__ treating keys as positions is deprecated. In a future version, integer keys will always be treated as labels (consistent with DataFrame behavior). To access a value by position, use `ser.iloc[pos]`\n",
      "  df.loc[0][1]\n"
     ]
    },
    {
     "data": {
      "text/plain": [
       "'http://childparenting.about.com/od/physicalemotionalgrowth/tp/Child-Development-Your-Eight-Year-Old-Child.htm'"
      ]
     },
     "execution_count": 2,
     "metadata": {},
     "output_type": "execute_result"
    }
   ],
   "source": [
    "from dotenv import load_dotenv\n",
    "import pandas as pd\n",
    "import os\n",
    "load_dotenv()\n",
    "\n",
    "documents_path = os.getenv(\"DOCUMENTS\")\n",
    "\n",
    "df = pd.read_csv(documents_path, sep=\"\\t\", nrows=100)\n",
    "df.loc[0][1]\n",
    "\n"
   ]
  },
  {
   "cell_type": "code",
   "execution_count": 3,
   "id": "ec2b25f4",
   "metadata": {},
   "outputs": [
    {
     "name": "stdout",
     "output_type": "stream",
     "text": [
      "Random Key: b'D2197832', Value: b'{\"doc_id\": \"D2197832\", \"link\": \"https://quizlet.com/78747186/ap-flash-cards/\", \"title\": \"A&P\", \"body\": \"33 terms guyton_temple A&PLearn Flashcards Write Spell Test Match Gravity Advertisement Upgrade to remove ads Sort What are the two major functions controlled by hormones Coordinate the activities of specific cells in certain parts on the body What are the chemical messengers of the endocrine system Hormones What are the changes that follow the binding of s hormone to its target cell Proteins are synthesized in cell plasma membrane permeability changes mitosis is stimulated enzymes are activated or inactivated What are prostaglandins Lipid hormones are manufactured in cell plasma membranes What type of stimulus prods organs into action by hormones Hormonal stimulus What are the tropic hormones Stimulate other endocrine glands to secrete hormones What are growth hormones Promotes growth in long bones and skeletal muscles What is the hypothalamus most closely associated with Pituitary gland What is a goiter and what causes it Enlargement of the thyroid gland resulting from a deficiency of dietary iodine What does hyposecreation of the anti diuretic hormone cause Gigantism Where is the thyroid gland located Below the Adam\\'s apple What is the body\\'s major metabolic hormone Thyroid hormone What element is necessary for proper thyroid function Iodine What hormone is released by the adrenal medulla Epinephrine What enzyme is produced by the kidneys when blood pressure drops Renin Rising blood levels of aldosterone cause the kidney tubules to Reabsorb sodium Glucocorticoids do what Help resist long term stress increase blood glucose levels decrease edema suppress in plasma motion Insulin is produced by what and where are they located Pancreatic beta cells in the pancreas Insulin works as an antagonist to what Glucagon Insulin causes Liver cells to convert glycogen to glucose and excrete into the blood The Pineal gland produces Melatonin The hormone that appears to help regulate our sleep wake cycles Melatonin The hormone responsible for the maturation of white blood cells known as T lymphocytes Thymosin Estrogens do what Develop of female secondary sexual characteristics What hormones play a role in reproduction Estrogen and progesterone What cells produce testosterone Leyden cells or interstitial cells What organ produces growth hormone Pituitary gland What organ produces prolactin Pituitary gland What organ produces thyroid stimulating hormone Pituitary gland What organ produces thyroxin Thyroid gland What organ produces cortisone Adrenal gland What organ produces insulin Pancreas What organ produces melatonin Pineal gland Advertisement Upgrade to remove ads Features Quizlet Live Quizlet Learn Diagrams Flashcards Mobile Help Sign up Help Center Honor Code Community Guidelines Students Teachers About Company Press Jobs Privacy Terms Follow us Language\\\\u00a9 2018 Quizlet Inc.\"}'\n"
     ]
    }
   ],
   "source": [
    "import redis\n",
    "\n",
    "def connect_to_db(host: str, port: int):\n",
    "    # Placeholder for database connection logic\n",
    "    return redis.Redis(host=host, port=port)\n",
    "\n",
    "redis_port = int(os.getenv(\"REDIS_PORT\", 6379))\n",
    "db = connect_to_db(\"localhost\", redis_port)\n",
    "\n",
    "random_key = db.randomkey()\n",
    "if random_key:\n",
    "    value = db.get(random_key)\n",
    "    print(f\"Random Key: {random_key}, Value: {value}\")"
   ]
  }
 ],
 "metadata": {
  "kernelspec": {
   "display_name": "sea-wise-2025-26",
   "language": "python",
   "name": "python3"
  },
  "language_info": {
   "codemirror_mode": {
    "name": "ipython",
    "version": 3
   },
   "file_extension": ".py",
   "mimetype": "text/x-python",
   "name": "python",
   "nbconvert_exporter": "python",
   "pygments_lexer": "ipython3",
   "version": "3.11.12"
  }
 },
 "nbformat": 4,
 "nbformat_minor": 5
}
